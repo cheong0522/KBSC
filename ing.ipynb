{
  "nbformat": 4,
  "nbformat_minor": 0,
  "metadata": {
    "colab": {
      "provenance": [],
      "authorship_tag": "ABX9TyMrmvt+MOAo9nEfUSKWly4Z",
      "include_colab_link": true
    },
    "kernelspec": {
      "name": "python3",
      "display_name": "Python 3"
    },
    "language_info": {
      "name": "python"
    }
  },
  "cells": [
    {
      "cell_type": "markdown",
      "metadata": {
        "id": "view-in-github",
        "colab_type": "text"
      },
      "source": [
        "<a href=\"https://colab.research.google.com/github/cheong0522/KBSC/blob/main/ing.ipynb\" target=\"_parent\"><img src=\"https://colab.research.google.com/assets/colab-badge.svg\" alt=\"Open In Colab\"/></a>"
      ]
    },
    {
      "cell_type": "code",
      "source": [
        "!pip install tensorflow"
      ],
      "metadata": {
        "id": "dKtucpOxO1hX"
      },
      "execution_count": null,
      "outputs": []
    },
    {
      "cell_type": "code",
      "source": [
        "import tensorflow as tf\n",
        "from tensorflow import keras\n",
        "import numpy as np\n",
        "import matplotlib.pyplot as plt\n",
        "import math"
      ],
      "metadata": {
        "id": "12zxPlhVOxMd"
      },
      "execution_count": null,
      "outputs": []
    },
    {
      "cell_type": "code",
      "execution_count": null,
      "metadata": {
        "id": "RDiS84JrOeKo"
      },
      "outputs": [],
      "source": [
        "!pip install soynlp emoji"
      ]
    },
    {
      "cell_type": "code",
      "source": [
        "!pip install transformers"
      ],
      "metadata": {
        "id": "x420o-RnOfq7"
      },
      "execution_count": null,
      "outputs": []
    },
    {
      "cell_type": "code",
      "source": [
        "from google.colab import drive\n",
        "drive.mount('/content/drive')"
      ],
      "metadata": {
        "colab": {
          "base_uri": "https://localhost:8080/"
        },
        "id": "wTTu1XdYOo80",
        "outputId": "29140224-c189-4d77-8af8-85561ab968fe"
      },
      "execution_count": null,
      "outputs": [
        {
          "output_type": "stream",
          "name": "stdout",
          "text": [
            "Mounted at /content/drive\n"
          ]
        }
      ]
    },
    {
      "cell_type": "code",
      "source": [
        "import pandas as pd\n",
        "import torch\n",
        "from torch.nn import functional as F\n",
        "from torch.utils.data import DataLoader, Dataset\n",
        "from transformers import AutoTokenizer, AutoModel, AdamW \n",
        "import numpy as np\n",
        "from tqdm.notebook import tqdm"
      ],
      "metadata": {
        "id": "biryssfPOspi"
      },
      "execution_count": null,
      "outputs": []
    },
    {
      "cell_type": "code",
      "source": [
        "device = torch.device(\"cuda\")"
      ],
      "metadata": {
        "id": "S1iBnX0mOugA"
      },
      "execution_count": null,
      "outputs": []
    },
    {
      "cell_type": "code",
      "source": [
        "test_data = pd.read_excel('/content/drive/MyDrive/KBSC_data.xlsx')"
      ],
      "metadata": {
        "id": "Tz1B0xaXP0tt"
      },
      "execution_count": null,
      "outputs": []
    },
    {
      "cell_type": "code",
      "source": [
        "\n",
        "test_data.loc[(test_data['Emotion'] == \"행복\"), 'Emotion'] = 0 \n",
        "test_data.loc[(test_data['Emotion'] == \"슬픔\"), 'Emotion'] = 1  \n",
        "test_data.loc[(test_data['Emotion'] == \"분노\"), 'Emotion'] = 2  \n",
        "test_data.loc[(test_data['Emotion'] == \"불안\"), 'Emotion'] = 3  \n",
        "test_data.loc[(test_data['Emotion'] == \"중립\"), 'Emotion'] = 4  \n",
        "\n",
        "train_dataset = []\n",
        "for sen, label in zip(test_data['Sentence'], test_data['Emotion']):\n",
        "  data_train = []\n",
        "  data_train.append(sen)\n",
        "  data_train.append(str(label))\n",
        "\n",
        "  train_dataset.append(data_train)\n",
        "\n",
        "class TrainDataset(Dataset):\n",
        "  \n",
        "  def __init__(self, dataset):\n",
        "    self.tokenizer = AutoTokenizer.from_pretrained(\"beomi/KcELECTRA-base\")\n",
        "\n",
        "    self.sentences = [str([i[0]]) for i in dataset]\n",
        "    self.labels = [np.int32(i[1]) for i in dataset]\n",
        "\n",
        "  def __len__(self):\n",
        "    return (len(self.labels))\n",
        "  \n",
        "  def __getitem__(self, i):\n",
        "    text = self.sentences[i]\n",
        "    y = self.labels[i]\n",
        "\n",
        "    inputs = self.tokenizer(\n",
        "        text, \n",
        "        return_tensors='pt',\n",
        "        truncation=True,\n",
        "        max_length=64,\n",
        "        pad_to_max_length=True,\n",
        "        add_special_tokens=True\n",
        "        )\n",
        "    \n",
        "    input_ids = inputs['input_ids'][0]\n",
        "    attention_mask = inputs['attention_mask'][0]\n",
        "\n",
        "    return input_ids, attention_mask, y\n",
        "\n",
        "train_dataset = TrainDataset(train_dataset)\n"
      ],
      "metadata": {
        "id": "-lt9ysBzPxnJ"
      },
      "execution_count": null,
      "outputs": []
    },
    {
      "cell_type": "code",
      "source": [
        "from torch import nn"
      ],
      "metadata": {
        "id": "yMtvldLEQ_1e"
      },
      "execution_count": null,
      "outputs": []
    },
    {
      "cell_type": "code",
      "source": [],
      "metadata": {
        "id": "agtdf_NmSRPB"
      },
      "execution_count": null,
      "outputs": []
    }
  ]
}